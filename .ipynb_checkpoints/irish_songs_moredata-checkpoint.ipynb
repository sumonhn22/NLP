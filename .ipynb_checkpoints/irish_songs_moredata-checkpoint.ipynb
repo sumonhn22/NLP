{
 "cells": [
  {
   "cell_type": "markdown",
   "metadata": {},
   "source": [
    "#  Predictions to Generate Text for Irish Lyrics \n",
    "\n",
    "* This notebook is considered more dataset than the other version of Irish Lyrics model "
   ]
  },
  {
   "cell_type": "code",
   "execution_count": null,
   "metadata": {
    "id": "BOjujz601HcS"
   },
   "outputs": [],
   "source": [
    "import tensorflow as tf\n",
    "\n",
    "from tensorflow.keras.preprocessing.sequence import pad_sequences\n",
    "from tensorflow.keras.layers import Embedding, LSTM, Dense, Bidirectional\n",
    "from tensorflow.keras.preprocessing.text import Tokenizer\n",
    "from tensorflow.keras.models import Sequential\n",
    "from tensorflow.keras.optimizers import Adam\n",
    "import numpy as np "
   ]
  },
  {
   "cell_type": "code",
   "execution_count": null,
   "metadata": {
    "colab": {
     "base_uri": "https://localhost:8080/"
    },
    "id": "tq0_KqNPaCjQ",
    "outputId": "b19077fe-d0c7-40c3-f279-69b4acef6fe1"
   },
   "outputs": [
    {
     "name": "stdout",
     "output_type": "stream",
     "text": [
      "--2021-12-26 20:44:33--  https://storage.googleapis.com/laurencemoroney-blog.appspot.com/irish-lyrics-eof.txt\n",
      "Resolving storage.googleapis.com (storage.googleapis.com)... 142.251.6.128, 74.125.70.128, 74.125.132.128, ...\n",
      "Connecting to storage.googleapis.com (storage.googleapis.com)|142.251.6.128|:443... connected.\n",
      "HTTP request sent, awaiting response... 200 OK\n",
      "Length: 68970 (67K) [text/plain]\n",
      "Saving to: ‘/tmp/irish-lyrics-eof.txt’\n",
      "\n",
      "\r",
      "          /tmp/iris   0%[                    ]       0  --.-KB/s               \r",
      "/tmp/irish-lyrics-e 100%[===================>]  67.35K  --.-KB/s    in 0.001s  \n",
      "\n",
      "2021-12-26 20:44:34 (126 MB/s) - ‘/tmp/irish-lyrics-eof.txt’ saved [68970/68970]\n",
      "\n"
     ]
    }
   ],
   "source": [
    "!wget --no-check-certificate \\\n",
    "    https://storage.googleapis.com/laurencemoroney-blog.appspot.com/irish-lyrics-eof.txt \\\n",
    "    -O /tmp/irish-lyrics-eof.txt"
   ]
  },
  {
   "cell_type": "code",
   "execution_count": null,
   "metadata": {},
   "outputs": [],
   "source": [
    "tokenizer = Tokenizer()\n",
    "max_sequence_len = 6\n",
    "sentences=[]\n",
    "alltext=[]\n",
    "data = open('/tmp/irish-lyrics-eof.txt').read()\n",
    "corpus = data.lower()\n",
    "alltext.append(corpus)\n",
    "words = corpus.split(\" \")\n",
    "range_size = len(words)-max_sequence_len\n",
    "for i in range(0, range_size):\n",
    "\tthissentence=\"\"\n",
    "\tfor word in range(0, max_sequence_len-1):\n",
    "\t\tword = words[i+word]\n",
    "\t\tthissentence = thissentence + word\n",
    "\t\tthissentence = thissentence + \" \"\n",
    "\tsentences.append(thissentence)\n",
    "\n",
    "print(sentences)"
   ]
  },
  {
   "cell_type": "code",
   "execution_count": null,
   "metadata": {},
   "outputs": [],
   "source": [
    "oov_tok = \"<OOV>\"\n",
    "vocab_size=2700\n",
    "tokenizer = Tokenizer(num_words=vocab_size, oov_token=oov_tok, split=\" \", char_level=False)\n",
    "tokenizer.fit_on_texts(alltext)\n",
    "total_words = len(tokenizer.word_index) + 1\n",
    "\n",
    "print(tokenizer.word_index)\n",
    "print(total_words)"
   ]
  },
  {
   "cell_type": "code",
   "execution_count": null,
   "metadata": {
    "id": "lr539XERe8CE"
   },
   "outputs": [],
   "source": [
    "input_sequences = []\n",
    "for line in sentences:\n",
    "\ttoken_list = tokenizer.texts_to_sequences([line])[0]\n",
    "\tfor i in range(1, len(token_list)):\n",
    "\t\tn_gram_sequence = token_list[:i+1]\n",
    "\t\tinput_sequences.append(n_gram_sequence)\n",
    "\n",
    "# pad sequences \n",
    "#max_sequence_len = max([len(x) for x in input_sequences])\n",
    "input_sequences = np.array(pad_sequences(input_sequences, maxlen=max_sequence_len, padding='pre'))\n",
    "\n",
    "# create predictors and label\n",
    "xs, labels = input_sequences[:,:-1],input_sequences[:,-1]\n",
    "\n",
    "ys = tf.keras.utils.to_categorical(labels, num_classes=total_words)"
   ]
  },
  {
   "cell_type": "code",
   "execution_count": null,
   "metadata": {
    "colab": {
     "base_uri": "https://localhost:8080/"
    },
    "id": "8BG-akbfR_MI",
    "outputId": "56993853-5fcc-440f-b342-23f7c5fc829f"
   },
   "outputs": [
    {
     "name": "stdout",
     "output_type": "stream",
     "text": [
      "(56643, 5)\n"
     ]
    }
   ],
   "source": [
    "print(xs.shape)\n",
    "print(xs[:20])"
   ]
  },
  {
   "cell_type": "markdown",
   "metadata": {},
   "source": [
    "## Build and train model"
   ]
  },
  {
   "cell_type": "code",
   "execution_count": null,
   "metadata": {},
   "outputs": [],
   "source": [
    "model = Sequential()\n",
    "model.add(Embedding(total_words, 16, input_length=max_sequence_len-1))\n",
    "model.add(Bidirectional(LSTM(32, return_sequences=True)))\n",
    "model.add(Bidirectional(LSTM(32)))\n",
    "model.add(Dense(total_words, activation='softmax'))\n",
    "adam = Adam(learning_rate=0.01)\n",
    "model.compile(loss='categorical_crossentropy', optimizer=adam, metrics=['accuracy'])\n",
    "history = model.fit(xs, ys, epochs=20, verbose=1)\n",
    "# model.save(\"bidiirish2.h5\")"
   ]
  },
  {
   "cell_type": "markdown",
   "metadata": {},
   "source": [
    "## Model Accuracy"
   ]
  },
  {
   "cell_type": "code",
   "execution_count": null,
   "metadata": {
    "colab": {
     "base_uri": "https://localhost:8080/",
     "height": 541
    },
    "id": "3YXGelKThoTT",
    "outputId": "14cd88bf-523c-4adc-f885-beb0936f6b38"
   },
   "outputs": [
    {
     "data": {
      "image/png": "[encoded data removed]",
      "text/plain": [
       "<Figure size 432x288 with 1 Axes>"
      ]
     },
     "metadata": {
      "needs_background": "light"
     },
     "output_type": "display_data"
    },
    {
     "data": {
      "image/png": "[encoded data removed]",
      "text/plain": [
       "<Figure size 432x288 with 1 Axes>"
      ]
     },
     "metadata": {
      "needs_background": "light"
     },
     "output_type": "display_data"
    }
   ],
   "source": [
    "import matplotlib.pyplot as plt\n",
    "\n",
    "\n",
    "def plot_graphs(history, string):\n",
    "  plt.plot(history.history[string])\n",
    "  plt.xlabel(\"Epochs\")\n",
    "  plt.ylabel(string)\n",
    "  plt.show()\n",
    "\n",
    "plot_graphs(history, 'accuracy')\n",
    "plot_graphs(history, 'loss')\n"
   ]
  },
  {
   "cell_type": "code",
   "execution_count": null,
   "metadata": {
    "colab": {
     "base_uri": "https://localhost:8080/"
    },
    "id": "Jasnt9XajQ1a",
    "outputId": "57a2540d-6dda-484e-9699-baf4e2103b8b"
   },
   "outputs": [
    {
     "name": "stdout",
     "output_type": "stream",
     "text": [
      "[2]\n"
     ]
    }
   ],
   "source": [
    "seed_text = \"Come all ye maidens young and\"                        # next word would be fair\n",
    "token_list = tokenizer.texts_to_sequences([seed_text])[0]\n",
    "token_list = pad_sequences([token_list], maxlen=max_sequence_len-1, padding='pre')\n",
    "predicted = np.argmax(model.predict(token_list), axis=-1)\n",
    "print(predicted)"
   ]
  },
  {
   "cell_type": "code",
   "execution_count": null,
   "metadata": {},
   "outputs": [],
   "source": [
    "# seed_text = \"sweet jeremy saw dublin\"\n",
    "\n",
    "# token_list = tokenizer.texts_to_sequences([seed_text])[0]\n",
    "# token_list = pad_sequences([token_list], maxlen=max_sequence_len-1, padding='pre')\n",
    "# #print(model.predict(token_list))  \n",
    "# predicted = model.predict_classes(token_list)\n",
    "# pred_classes=model.predict(token_list)\n",
    "# print(pred_classes.reshape(-1)[predicted])\n",
    "# print(predicted)\n",
    "# for word, index in tokenizer.word_index.items():\n",
    "# \tif index == predicted:\n",
    "# \t\tprint(word)\n",
    "# \t\tbreak"
   ]
  },
  {
   "cell_type": "code",
   "execution_count": null,
   "metadata": {
    "id": "6Vc6PHgxa6Hm"
   },
   "outputs": [],
   "source": [
    "# seed_text = \"are you feeling lucky\"\n",
    "# next_words = 100\n",
    "\n",
    "  \n",
    "# for _ in range(next_words):\n",
    "# \ttoken_list = tokenizer.texts_to_sequences([seed_text])[0]\n",
    "# \ttoken_list = pad_sequences([token_list], maxlen=max_sequence_len-1, padding='pre')\n",
    "# \tpredicted = model.predict_classes(token_list, verbose=0)\n",
    "# \toutput_word = \"\"\n",
    "# \tfor word, index in tokenizer.word_index.items():\n",
    "# \t\tif index == predicted:\n",
    "# \t\t\toutput_word = word\n",
    "# \t\t\tbreak\n",
    "# \tseed_text += \" \" + output_word\n",
    "# print(seed_text)"
   ]
  }
 ],
 "metadata": {
  "accelerator": "TPU",
  "colab": {
   "name": "irish-songs-moredata.ipynb",
   "provenance": []
  },
  "kernelspec": {
   "display_name": "Python 3 (ipykernel)",
   "language": "python",
   "name": "python3"
  },
  "language_info": {
   "codemirror_mode": {
    "name": "ipython",
    "version": 3
   },
   "file_extension": ".py",
   "mimetype": "text/x-python",
   "name": "python",
   "nbconvert_exporter": "python",
   "pygments_lexer": "ipython3",
   "version": "3.9.12"
  }
 },
 "nbformat": 4,
 "nbformat_minor": 1
}
