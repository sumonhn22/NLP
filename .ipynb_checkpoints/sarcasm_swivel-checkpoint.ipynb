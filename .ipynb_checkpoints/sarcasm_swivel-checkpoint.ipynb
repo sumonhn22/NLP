{
 "cells": [
  {
   "cell_type": "markdown",
   "metadata": {},
   "source": [
    "# Sarcasm data with HubKerasLayer"
   ]
  },
  {
   "cell_type": "code",
   "execution_count": null,
   "metadata": {
    "id": "XYYDvoskkE61"
   },
   "outputs": [],
   "source": [
    "import json\n",
    "import tensorflow as tf\n",
    "import numpy as np\n",
    "\n",
    "from tensorflow.keras.preprocessing.text import Tokenizer\n",
    "from tensorflow.keras.preprocessing.sequence import pad_sequences"
   ]
  },
  {
   "cell_type": "code",
   "execution_count": null,
   "metadata": {
    "id": "WpOdgZnNlWY5"
   },
   "outputs": [],
   "source": [
    "from bs4 import BeautifulSoup\n",
    "import string\n",
    "\n",
    "stopwords = [\"a\", \"about\", \"above\", \"after\", \"again\", \"against\", \"all\", \"am\", \"an\", \"and\", \"any\", \"are\", \"as\", \"at\",\n",
    "             \"be\", \"because\", \"been\", \"before\", \"being\", \"below\", \"between\", \"both\", \"but\", \"by\", \"could\", \"did\", \"do\",\n",
    "             \"does\", \"doing\", \"down\", \"during\", \"each\", \"few\", \"for\", \"from\", \"further\", \"had\", \"has\", \"have\", \"having\",\n",
    "             \"he\", \"hed\", \"hes\", \"her\", \"here\", \"heres\", \"hers\", \"herself\", \"him\", \"himself\", \"his\", \"how\",\n",
    "             \"hows\", \"i\", \"id\", \"ill\", \"im\", \"ive\", \"if\", \"in\", \"into\", \"is\", \"it\", \"its\", \"itself\",\n",
    "             \"lets\", \"me\", \"more\", \"most\", \"my\", \"myself\", \"nor\", \"of\", \"on\", \"once\", \"only\", \"or\", \"other\", \"ought\",\n",
    "             \"our\", \"ours\", \"ourselves\", \"out\", \"over\", \"own\", \"same\", \"she\", \"shed\", \"shell\", \"shes\", \"should\",\n",
    "             \"so\", \"some\", \"such\", \"than\", \"that\", \"thats\", \"the\", \"their\", \"theirs\", \"them\", \"themselves\", \"then\",\n",
    "             \"there\", \"theres\", \"these\", \"they\", \"theyd\", \"theyll\", \"theyre\", \"theyve\", \"this\", \"those\", \"through\",\n",
    "             \"to\", \"too\", \"under\", \"until\", \"up\", \"very\", \"was\", \"we\", \"wed\", \"well\", \"were\", \"weve\", \"were\",\n",
    "             \"what\", \"whats\", \"when\", \"whens\", \"where\", \"wheres\", \"which\", \"while\", \"who\", \"whos\", \"whom\", \"why\",\n",
    "             \"whys\", \"with\", \"would\", \"you\", \"youd\", \"youll\", \"youre\", \"youve\", \"your\", \"yours\", \"yourself\",\n",
    "             \"yourselves\"]\n",
    "\n",
    "table = str.maketrans('', '', string.punctuation)"
   ]
  },
  {
   "cell_type": "code",
   "execution_count": null,
   "metadata": {
    "colab": {
     "base_uri": "https://localhost:8080/"
    },
    "id": "BQVuQrZNkPn9",
    "outputId": "4cae0b70-f869-4158-be7d-c3d15e441a50"
   },
   "outputs": [
    {
     "name": "stdout",
     "output_type": "stream",
     "text": [
      "--2021-12-05 11:59:19--  https://storage.googleapis.com/laurencemoroney-blog.appspot.com/sarcasm.json\n",
      "Resolving storage.googleapis.com (storage.googleapis.com)... 74.125.70.128, 74.125.132.128, 74.125.202.128, ...\n",
      "Connecting to storage.googleapis.com (storage.googleapis.com)|74.125.70.128|:443... connected.\n",
      "HTTP request sent, awaiting response... 200 OK\n",
      "Length: 5643545 (5.4M) [application/json]\n",
      "Saving to: ‘/tmp/sarcasm.json’\n",
      "\n",
      "\r",
      "/tmp/sarcasm.json     0%[                    ]       0  --.-KB/s               \r",
      "/tmp/sarcasm.json   100%[===================>]   5.38M  --.-KB/s    in 0.04s   \n",
      "\n",
      "2021-12-05 11:59:19 (125 MB/s) - ‘/tmp/sarcasm.json’ saved [5643545/5643545]\n",
      "\n"
     ]
    }
   ],
   "source": [
    "!wget --no-check-certificate \\\n",
    "    https://storage.googleapis.com/laurencemoroney-blog.appspot.com/sarcasm.json \\\n",
    "    -O /tmp/sarcasm.json\n"
   ]
  },
  {
   "cell_type": "code",
   "execution_count": null,
   "metadata": {
    "id": "oaLaaqhNkUPd"
   },
   "outputs": [],
   "source": [
    "import json\n",
    "from tensorflow.keras.preprocessing.text import Tokenizer\n",
    "from tensorflow.keras.preprocessing.sequence import pad_sequences\n",
    "\n",
    "with open(\"/tmp/sarcasm.json\", 'r') as f:\n",
    "    datastore = json.load(f)\n",
    "\n",
    "\n",
    "sentences = [] \n",
    "labels = []\n",
    "urls = []\n",
    "for item in datastore:\n",
    "    sentence = item['headline'].lower()\n",
    "    sentence = sentence.replace(\",\", \" , \")\n",
    "    sentence = sentence.replace(\".\", \" . \")\n",
    "    sentence = sentence.replace(\"-\", \" - \")\n",
    "    sentence = sentence.replace(\"/\", \" / \")\n",
    "    soup = BeautifulSoup(sentence)\n",
    "    sentence = soup.get_text()\n",
    "    words = sentence.split()\n",
    "    filtered_sentence = \"\"\n",
    "    for word in words:\n",
    "        word = word.translate(table)\n",
    "        if word not in stopwords:\n",
    "            filtered_sentence = filtered_sentence + word + \" \"\n",
    "    sentences.append(filtered_sentence)\n",
    "    labels.append(item['is_sarcastic'])\n",
    "    urls.append(item['article_link'])"
   ]
  },
  {
   "cell_type": "code",
   "execution_count": null,
   "metadata": {
    "id": "S1sD-7v0kYWk"
   },
   "outputs": [],
   "source": [
    "training_size = 24000\n",
    "training_sentences = sentences[0:training_size]\n",
    "testing_sentences = sentences[training_size:]\n",
    "training_labels = labels[0:training_size]\n",
    "testing_labels = labels[training_size:]"
   ]
  },
  {
   "cell_type": "code",
   "execution_count": null,
   "metadata": {
    "id": "g3gTza7aDnbt"
   },
   "outputs": [],
   "source": [
    "import tensorflow_hub as hub\n",
    "hub_layer = hub.KerasLayer(\"https://tfhub.dev/google/tf2-preview/gnews-swivel-20dim/1\", output_shape=[20], input_shape=[], dtype=tf.string, trainable=False)"
   ]
  },
  {
   "cell_type": "code",
   "execution_count": null,
   "metadata": {
    "id": "FufaT4vlkiDE"
   },
   "outputs": [],
   "source": [
    "model = tf.keras.Sequential([\n",
    "    hub_layer,\n",
    "    tf.keras.layers.Dense(16, activation='relu'),\n",
    "    tf.keras.layers.Dense(1, activation='sigmoid')\n",
    "])\n",
    "adam = tf.keras.optimizers.Adam(learning_rate=0.0001, beta_1=0.9, beta_2=0.999, amsgrad=False)\n",
    "model.compile(loss='binary_crossentropy',optimizer=adam, metrics=['accuracy'])"
   ]
  },
  {
   "cell_type": "code",
   "execution_count": null,
   "metadata": {
    "colab": {
     "base_uri": "https://localhost:8080/"
    },
    "id": "XfDt1hmYkiys",
    "outputId": "e1903833-b24c-47dd-9a1f-5522dc4525ca"
   },
   "outputs": [
    {
     "name": "stdout",
     "output_type": "stream",
     "text": [
      "Model: \"sequential\"\n",
      "_________________________________________________________________\n",
      " Layer (type)                Output Shape              Param #   \n",
      "=================================================================\n",
      " keras_layer (KerasLayer)    (None, 20)                400020    \n",
      "                                                                 \n",
      " dense (Dense)               (None, 16)                336       \n",
      "                                                                 \n",
      " dense_1 (Dense)             (None, 1)                 17        \n",
      "                                                                 \n",
      "=================================================================\n",
      "Total params: 400,373\n",
      "Trainable params: 353\n",
      "Non-trainable params: 400,020\n",
      "_________________________________________________________________\n"
     ]
    }
   ],
   "source": [
    "model.summary()"
   ]
  },
  {
   "cell_type": "code",
   "execution_count": null,
   "metadata": {
    "colab": {
     "base_uri": "https://localhost:8080/"
    },
    "id": "2DTKQFf1kkyc",
    "outputId": "8084ffa6-fd89-4861-db19-25335e5a4418"
   },
   "outputs": [
    {
     "name": "stdout",
     "output_type": "stream",
     "text": [
      "Epoch 1/50\n",
      "750/750 - 5s - loss: 0.7194 - accuracy: 0.5215 - val_loss: 0.7012 - val_accuracy: 0.5404 - 5s/epoch - 7ms/step\n",
      "Epoch 2/50\n",
      "750/750 - 3s - loss: 0.6833 - accuracy: 0.5614 - val_loss: 0.6820 - val_accuracy: 0.5696 - 3s/epoch - 4ms/step\n",
      "Epoch 3/50\n",
      "750/750 - 3s - loss: 0.6679 - accuracy: 0.5919 - val_loss: 0.6707 - val_accuracy: 0.5921 - 3s/epoch - 4ms/step\n",
      "Epoch 4/50\n",
      "750/750 - 3s - loss: 0.6583 - accuracy: 0.6118 - val_loss: 0.6626 - val_accuracy: 0.6091 - 3s/epoch - 4ms/step\n",
      "Epoch 5/50\n",
      "750/750 - 3s - loss: 0.6515 - accuracy: 0.6253 - val_loss: 0.6571 - val_accuracy: 0.6227 - 3s/epoch - 4ms/step\n",
      "Epoch 6/50\n",
      "750/750 - 3s - loss: 0.6461 - accuracy: 0.6316 - val_loss: 0.6523 - val_accuracy: 0.6286 - 3s/epoch - 4ms/step\n",
      "Epoch 7/50\n",
      "750/750 - 3s - loss: 0.6417 - accuracy: 0.6380 - val_loss: 0.6486 - val_accuracy: 0.6334 - 3s/epoch - 4ms/step\n",
      "Epoch 8/50\n",
      "750/750 - 3s - loss: 0.6381 - accuracy: 0.6433 - val_loss: 0.6453 - val_accuracy: 0.6357 - 3s/epoch - 4ms/step\n",
      "Epoch 9/50\n",
      "750/750 - 3s - loss: 0.6349 - accuracy: 0.6469 - val_loss: 0.6428 - val_accuracy: 0.6327 - 3s/epoch - 4ms/step\n",
      "Epoch 10/50\n",
      "750/750 - 3s - loss: 0.6323 - accuracy: 0.6505 - val_loss: 0.6398 - val_accuracy: 0.6397 - 3s/epoch - 4ms/step\n",
      "Epoch 11/50\n",
      "750/750 - 3s - loss: 0.6299 - accuracy: 0.6527 - val_loss: 0.6378 - val_accuracy: 0.6441 - 3s/epoch - 4ms/step\n",
      "Epoch 12/50\n",
      "750/750 - 3s - loss: 0.6278 - accuracy: 0.6545 - val_loss: 0.6358 - val_accuracy: 0.6430 - 3s/epoch - 4ms/step\n",
      "Epoch 13/50\n",
      "750/750 - 3s - loss: 0.6260 - accuracy: 0.6579 - val_loss: 0.6336 - val_accuracy: 0.6471 - 3s/epoch - 4ms/step\n",
      "Epoch 14/50\n",
      "750/750 - 3s - loss: 0.6244 - accuracy: 0.6589 - val_loss: 0.6326 - val_accuracy: 0.6478 - 3s/epoch - 4ms/step\n",
      "Epoch 15/50\n",
      "750/750 - 3s - loss: 0.6230 - accuracy: 0.6588 - val_loss: 0.6315 - val_accuracy: 0.6486 - 3s/epoch - 4ms/step\n",
      "Epoch 16/50\n",
      "750/750 - 3s - loss: 0.6217 - accuracy: 0.6604 - val_loss: 0.6301 - val_accuracy: 0.6501 - 3s/epoch - 4ms/step\n",
      "Epoch 17/50\n",
      "750/750 - 3s - loss: 0.6206 - accuracy: 0.6616 - val_loss: 0.6295 - val_accuracy: 0.6523 - 3s/epoch - 4ms/step\n",
      "Epoch 18/50\n",
      "750/750 - 3s - loss: 0.6195 - accuracy: 0.6620 - val_loss: 0.6290 - val_accuracy: 0.6512 - 3s/epoch - 4ms/step\n",
      "Epoch 19/50\n",
      "750/750 - 3s - loss: 0.6187 - accuracy: 0.6640 - val_loss: 0.6282 - val_accuracy: 0.6526 - 3s/epoch - 4ms/step\n",
      "Epoch 20/50\n",
      "750/750 - 3s - loss: 0.6178 - accuracy: 0.6638 - val_loss: 0.6280 - val_accuracy: 0.6545 - 3s/epoch - 4ms/step\n",
      "Epoch 21/50\n",
      "750/750 - 3s - loss: 0.6171 - accuracy: 0.6643 - val_loss: 0.6263 - val_accuracy: 0.6549 - 3s/epoch - 4ms/step\n",
      "Epoch 22/50\n",
      "750/750 - 3s - loss: 0.6165 - accuracy: 0.6651 - val_loss: 0.6259 - val_accuracy: 0.6574 - 3s/epoch - 4ms/step\n",
      "Epoch 23/50\n",
      "750/750 - 3s - loss: 0.6158 - accuracy: 0.6659 - val_loss: 0.6262 - val_accuracy: 0.6582 - 3s/epoch - 4ms/step\n",
      "Epoch 24/50\n",
      "750/750 - 3s - loss: 0.6153 - accuracy: 0.6662 - val_loss: 0.6251 - val_accuracy: 0.6578 - 3s/epoch - 4ms/step\n",
      "Epoch 25/50\n",
      "750/750 - 3s - loss: 0.6148 - accuracy: 0.6664 - val_loss: 0.6247 - val_accuracy: 0.6571 - 3s/epoch - 4ms/step\n",
      "Epoch 26/50\n",
      "750/750 - 3s - loss: 0.6143 - accuracy: 0.6670 - val_loss: 0.6248 - val_accuracy: 0.6604 - 3s/epoch - 4ms/step\n",
      "Epoch 27/50\n",
      "750/750 - 3s - loss: 0.6139 - accuracy: 0.6660 - val_loss: 0.6239 - val_accuracy: 0.6574 - 3s/epoch - 4ms/step\n",
      "Epoch 28/50\n",
      "750/750 - 3s - loss: 0.6134 - accuracy: 0.6680 - val_loss: 0.6239 - val_accuracy: 0.6589 - 3s/epoch - 4ms/step\n",
      "Epoch 29/50\n",
      "750/750 - 3s - loss: 0.6131 - accuracy: 0.6666 - val_loss: 0.6230 - val_accuracy: 0.6567 - 3s/epoch - 4ms/step\n",
      "Epoch 30/50\n",
      "750/750 - 3s - loss: 0.6127 - accuracy: 0.6680 - val_loss: 0.6228 - val_accuracy: 0.6571 - 3s/epoch - 4ms/step\n",
      "Epoch 31/50\n",
      "750/750 - 3s - loss: 0.6124 - accuracy: 0.6676 - val_loss: 0.6229 - val_accuracy: 0.6585 - 3s/epoch - 4ms/step\n",
      "Epoch 32/50\n",
      "750/750 - 3s - loss: 0.6120 - accuracy: 0.6682 - val_loss: 0.6221 - val_accuracy: 0.6552 - 3s/epoch - 4ms/step\n",
      "Epoch 33/50\n",
      "750/750 - 3s - loss: 0.6117 - accuracy: 0.6690 - val_loss: 0.6221 - val_accuracy: 0.6593 - 3s/epoch - 4ms/step\n",
      "Epoch 34/50\n",
      "750/750 - 3s - loss: 0.6114 - accuracy: 0.6689 - val_loss: 0.6221 - val_accuracy: 0.6574 - 3s/epoch - 4ms/step\n",
      "Epoch 35/50\n",
      "750/750 - 3s - loss: 0.6112 - accuracy: 0.6690 - val_loss: 0.6215 - val_accuracy: 0.6593 - 3s/epoch - 4ms/step\n",
      "Epoch 36/50\n",
      "750/750 - 3s - loss: 0.6108 - accuracy: 0.6697 - val_loss: 0.6212 - val_accuracy: 0.6597 - 3s/epoch - 4ms/step\n",
      "Epoch 37/50\n",
      "750/750 - 3s - loss: 0.6105 - accuracy: 0.6707 - val_loss: 0.6205 - val_accuracy: 0.6563 - 3s/epoch - 4ms/step\n",
      "Epoch 38/50\n",
      "750/750 - 3s - loss: 0.6103 - accuracy: 0.6707 - val_loss: 0.6210 - val_accuracy: 0.6589 - 3s/epoch - 4ms/step\n",
      "Epoch 39/50\n",
      "750/750 - 3s - loss: 0.6100 - accuracy: 0.6701 - val_loss: 0.6210 - val_accuracy: 0.6593 - 3s/epoch - 4ms/step\n",
      "Epoch 40/50\n",
      "750/750 - 3s - loss: 0.6099 - accuracy: 0.6705 - val_loss: 0.6200 - val_accuracy: 0.6585 - 3s/epoch - 4ms/step\n",
      "Epoch 41/50\n",
      "750/750 - 3s - loss: 0.6095 - accuracy: 0.6716 - val_loss: 0.6197 - val_accuracy: 0.6582 - 3s/epoch - 4ms/step\n",
      "Epoch 42/50\n",
      "750/750 - 3s - loss: 0.6093 - accuracy: 0.6715 - val_loss: 0.6196 - val_accuracy: 0.6589 - 3s/epoch - 4ms/step\n",
      "Epoch 43/50\n",
      "750/750 - 3s - loss: 0.6091 - accuracy: 0.6724 - val_loss: 0.6193 - val_accuracy: 0.6589 - 3s/epoch - 4ms/step\n",
      "Epoch 44/50\n",
      "750/750 - 3s - loss: 0.6089 - accuracy: 0.6727 - val_loss: 0.6192 - val_accuracy: 0.6574 - 3s/epoch - 4ms/step\n",
      "Epoch 45/50\n",
      "750/750 - 3s - loss: 0.6086 - accuracy: 0.6730 - val_loss: 0.6196 - val_accuracy: 0.6571 - 3s/epoch - 4ms/step\n",
      "Epoch 46/50\n",
      "750/750 - 3s - loss: 0.6084 - accuracy: 0.6720 - val_loss: 0.6198 - val_accuracy: 0.6585 - 3s/epoch - 4ms/step\n",
      "Epoch 47/50\n",
      "750/750 - 3s - loss: 0.6083 - accuracy: 0.6724 - val_loss: 0.6184 - val_accuracy: 0.6571 - 3s/epoch - 3ms/step\n",
      "Epoch 48/50\n",
      "750/750 - 3s - loss: 0.6081 - accuracy: 0.6722 - val_loss: 0.6181 - val_accuracy: 0.6578 - 3s/epoch - 4ms/step\n",
      "Epoch 49/50\n",
      "750/750 - 3s - loss: 0.6079 - accuracy: 0.6722 - val_loss: 0.6179 - val_accuracy: 0.6597 - 3s/epoch - 4ms/step\n",
      "Epoch 50/50\n",
      "750/750 - 3s - loss: 0.6076 - accuracy: 0.6729 - val_loss: 0.6185 - val_accuracy: 0.6560 - 3s/epoch - 4ms/step\n"
     ]
    }
   ],
   "source": [
    "num_epochs = 50\n",
    "history = model.fit(training_sentences, training_labels, epochs=num_epochs, validation_data=(testing_sentences, testing_labels), verbose=2)"
   ]
  },
  {
   "cell_type": "code",
   "execution_count": null,
   "metadata": {
    "colab": {
     "base_uri": "https://localhost:8080/",
     "height": 545
    },
    "id": "2HYfBKXjkmU8",
    "outputId": "1a6a7351-1899-4d4b-c5af-b4c2c538852d"
   },
   "outputs": [
    {
     "data": {
      "image/png": "[encoded data removed]",
      "text/plain": [
       "<Figure size 432x288 with 1 Axes>"
      ]
     },
     "metadata": {
      "needs_background": "light"
     },
     "output_type": "display_data"
    },
    {
     "data": {
      "image/png": "[encoded data removed]",
      "text/plain": [
       "<Figure size 432x288 with 1 Axes>"
      ]
     },
     "metadata": {
      "needs_background": "light"
     },
     "output_type": "display_data"
    }
   ],
   "source": [
    "import matplotlib.pyplot as plt\n",
    "\n",
    "\n",
    "def plot_graphs(history, string):\n",
    "  plt.plot(history.history[string])\n",
    "  plt.plot(history.history['val_'+string])\n",
    "  plt.xlabel(\"Epochs\")\n",
    "  plt.ylabel(string)\n",
    "  plt.legend([string, 'val_'+string])\n",
    "  plt.show()\n",
    "  \n",
    "plot_graphs(history, \"accuracy\")\n",
    "plot_graphs(history, \"loss\")"
   ]
  },
  {
   "cell_type": "code",
   "execution_count": null,
   "metadata": {
    "id": "cG8-ArY-qDcz"
   },
   "outputs": [],
   "source": [
    "test_sentences = [\"granny starting to fear spiders in the garden might be real\", \n",
    " \"game of thrones season finale showing this sunday night\", \n",
    " \"TensorFlow book will be a best seller\"]\n",
    "\n",
    "predictions = model.predict(test_sentences)\n"
   ]
  },
  {
   "cell_type": "code",
   "execution_count": null,
   "metadata": {
    "colab": {
     "base_uri": "https://localhost:8080/"
    },
    "id": "Vuvdj9QOIINq",
    "outputId": "45eb607d-1af3-4a84-c122-7a3bcfbfd653"
   },
   "outputs": [
    {
     "name": "stdout",
     "output_type": "stream",
     "text": [
      "[[0.62320256]\n",
      " [0.17614773]\n",
      " [0.5060088 ]]\n"
     ]
    }
   ],
   "source": [
    "print(predictions)"
   ]
  },
  {
   "cell_type": "markdown",
   "metadata": {
    "id": "Pz56oE8QNoNK"
   },
   "source": []
  }
 ],
 "metadata": {
  "accelerator": "GPU",
  "colab": {
   "collapsed_sections": [],
   "name": "sarcasm_swivel.ipynb",
   "provenance": []
  },
  "kernelspec": {
   "display_name": "Python 3 (ipykernel)",
   "language": "python",
   "name": "python3"
  },
  "language_info": {
   "codemirror_mode": {
    "name": "ipython",
    "version": 3
   },
   "file_extension": ".py",
   "mimetype": "text/x-python",
   "name": "python",
   "nbconvert_exporter": "python",
   "pygments_lexer": "ipython3",
   "version": "3.9.12"
  }
 },
 "nbformat": 4,
 "nbformat_minor": 1
}
