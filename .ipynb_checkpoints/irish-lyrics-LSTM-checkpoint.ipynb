{
 "cells": [
  {
   "cell_type": "markdown",
   "metadata": {},
   "source": [
    "#  Predictions to Generate Text for Irish Lyrics"
   ]
  },
  {
   "cell_type": "code",
   "execution_count": 51,
   "metadata": {
    "executionInfo": {
     "elapsed": 5,
     "status": "ok",
     "timestamp": 1640793316129,
     "user": {
      "displayName": "S Hossain",
      "photoUrl": "https://lh3.googleusercontent.com/a-/AOh14Ggt4u0T0ivGL6FKb8kNpTDR54DKNxD5_0eAOmR0Ww=s64",
      "userId": "04446315769117704347"
     },
     "user_tz": -60
    },
    "id": "BOjujz601HcS"
   },
   "outputs": [],
   "source": [
    "import tensorflow as tf\n",
    "\n",
    "from tensorflow.keras.preprocessing.sequence import pad_sequences\n",
    "from tensorflow.keras.layers import Embedding, LSTM, Dense, Bidirectional\n",
    "from tensorflow.keras.preprocessing.text import Tokenizer\n",
    "from tensorflow.keras.models import Sequential\n",
    "from tensorflow.keras.optimizers import Adam\n",
    "import numpy as np "
   ]
  },
  {
   "cell_type": "markdown",
   "metadata": {},
   "source": [
    "## Data Loading\n",
    "\n",
    "* Hosted a text file containing about 1,700 lines of text gathered from a number of songs that you can use for experimentation."
   ]
  },
  {
   "cell_type": "code",
   "execution_count": 52,
   "metadata": {
    "colab": {
     "base_uri": "https://localhost:8080/"
    },
    "executionInfo": {
     "elapsed": 469,
     "status": "ok",
     "timestamp": 1640793316594,
     "user": {
      "displayName": "S Hossain",
      "photoUrl": "https://lh3.googleusercontent.com/a-/AOh14Ggt4u0T0ivGL6FKb8kNpTDR54DKNxD5_0eAOmR0Ww=s64",
      "userId": "04446315769117704347"
     },
     "user_tz": -60
    },
    "id": "tq0_KqNPaCjQ",
    "outputId": "d813ed32-c1fb-470c-e4d3-a929c37d3ce9"
   },
   "outputs": [
    {
     "name": "stdout",
     "output_type": "stream",
     "text": [
      "--2021-12-29 15:55:15--  https://storage.googleapis.com/laurencemoroney-blog.appspot.com/irish-lyrics-eof.txt\n",
      "Resolving storage.googleapis.com (storage.googleapis.com)... 108.177.125.128, 142.250.157.128, 142.251.8.128, ...\n",
      "Connecting to storage.googleapis.com (storage.googleapis.com)|108.177.125.128|:443... connected.\n",
      "HTTP request sent, awaiting response... 200 OK\n",
      "Length: 68970 (67K) [text/plain]\n",
      "Saving to: ‘/tmp/irish-lyrics-eof.txt’\n",
      "\n",
      "\r",
      "          /tmp/iris   0%[                    ]       0  --.-KB/s               \r",
      "/tmp/irish-lyrics-e 100%[===================>]  67.35K  --.-KB/s    in 0.001s  \n",
      "\n",
      "2021-12-29 15:55:15 (106 MB/s) - ‘/tmp/irish-lyrics-eof.txt’ saved [68970/68970]\n",
      "\n"
     ]
    }
   ],
   "source": [
    "!wget --no-check-certificate \\\n",
    "    https://storage.googleapis.com/laurencemoroney-blog.appspot.com/irish-lyrics-eof.txt \\\n",
    "    -O /tmp/irish-lyrics-eof.txt"
   ]
  },
  {
   "cell_type": "markdown",
   "metadata": {},
   "source": [
    "## Data preprocessing"
   ]
  },
  {
   "cell_type": "code",
   "execution_count": 53,
   "metadata": {
    "colab": {
     "base_uri": "https://localhost:8080/"
    },
    "executionInfo": {
     "elapsed": 8,
     "status": "ok",
     "timestamp": 1640793316595,
     "user": {
      "displayName": "S Hossain",
      "photoUrl": "https://lh3.googleusercontent.com/a-/AOh14Ggt4u0T0ivGL6FKb8kNpTDR54DKNxD5_0eAOmR0Ww=s64",
      "userId": "04446315769117704347"
     },
     "user_tz": -60
    },
    "id": "rNHCNxGLZx99",
    "outputId": "63ed2f6d-83e3-4b7e-8085-6d46874d0f5a"
   },
   "outputs": [
    {
     "name": "stdout",
     "output_type": "stream",
     "text": [
      "['come all ye maidens young ', 'all ye maidens young and ', 'ye maidens young and fair\\nand ']\n"
     ]
    }
   ],
   "source": [
    "tokenizer = Tokenizer()\n",
    "max_sequence_len = 6\n",
    "sentences=[]\n",
    "alltext=[]\n",
    "data = open('/tmp/irish-lyrics-eof.txt').read()\n",
    "corpus = data.lower()\n",
    "alltext.append(corpus)\n",
    "words = corpus.split(\" \")\n",
    "range_size = len(words)-max_sequence_len\n",
    "for i in range(0, range_size):\n",
    "\tthissentence=\"\"\n",
    "\tfor word in range(0, max_sequence_len-1):\n",
    "\t\tword = words[i+word]\n",
    "\t\tthissentence = thissentence + word\n",
    "\t\tthissentence = thissentence + \" \"\n",
    "\tsentences.append(thissentence)\n",
    "\n",
    "print(sentences[:3])"
   ]
  },
  {
   "cell_type": "code",
   "execution_count": null,
   "metadata": {},
   "outputs": [],
   "source": [
    "oov_tok = \"<OOV>\"\n",
    "vocab_size=2700\n",
    "tokenizer = Tokenizer(num_words=vocab_size, oov_token=oov_tok, split=\" \", char_level=False)\n",
    "tokenizer.fit_on_texts(alltext)\n",
    "total_words = len(tokenizer.word_index) + 1\n",
    "\n",
    "print(tokenizer.word_index)\n",
    "print(total_words)"
   ]
  },
  {
   "cell_type": "code",
   "execution_count": 55,
   "metadata": {
    "colab": {
     "base_uri": "https://localhost:8080/"
    },
    "executionInfo": {
     "elapsed": 52991,
     "status": "ok",
     "timestamp": 1640793369583,
     "user": {
      "displayName": "S Hossain",
      "photoUrl": "https://lh3.googleusercontent.com/a-/AOh14Ggt4u0T0ivGL6FKb8kNpTDR54DKNxD5_0eAOmR0Ww=s64",
      "userId": "04446315769117704347"
     },
     "user_tz": -60
    },
    "id": "lr539XERe8CE",
    "outputId": "0d4ea2fa-eec1-4ce6-8ff0-77a8a44af81f"
   },
   "outputs": [
    {
     "name": "stdout",
     "output_type": "stream",
     "text": [
      "[[52, 13], [52, 13, 97], [52, 13, 97, 1218], [52, 13, 97, 1218, 49], [13, 97]]\n"
     ]
    }
   ],
   "source": [
    "input_sequences = []\n",
    "for line in sentences:\n",
    "\ttoken_list = tokenizer.texts_to_sequences([line])[0]\n",
    "\tfor i in range(1, len(token_list)):\n",
    "\t\tn_gram_sequence = token_list[:i+1]\n",
    "\t\tinput_sequences.append(n_gram_sequence)\n",
    "\n",
    "print(input_sequences[:5])"
   ]
  },
  {
   "cell_type": "code",
   "execution_count": 56,
   "metadata": {
    "colab": {
     "base_uri": "https://localhost:8080/"
    },
    "executionInfo": {
     "elapsed": 10,
     "status": "ok",
     "timestamp": 1640793369584,
     "user": {
      "displayName": "S Hossain",
      "photoUrl": "https://lh3.googleusercontent.com/a-/AOh14Ggt4u0T0ivGL6FKb8kNpTDR54DKNxD5_0eAOmR0Ww=s64",
      "userId": "04446315769117704347"
     },
     "user_tz": -60
    },
    "id": "TIKGOkHim6dH",
    "outputId": "7560c18a-6111-48b4-aef9-47d165a2c9aa"
   },
   "outputs": [
    {
     "name": "stdout",
     "output_type": "stream",
     "text": [
      "21\n",
      "[[   0    0    0    0    0    0    0    0    0    0    0    0    0    0\n",
      "     0    0    0    0    0   52   13]\n",
      " [   0    0    0    0    0    0    0    0    0    0    0    0    0    0\n",
      "     0    0    0    0   52   13   97]\n",
      " [   0    0    0    0    0    0    0    0    0    0    0    0    0    0\n",
      "     0    0    0   52   13   97 1218]\n",
      " [   0    0    0    0    0    0    0    0    0    0    0    0    0    0\n",
      "     0    0   52   13   97 1218   49]\n",
      " [   0    0    0    0    0    0    0    0    0    0    0    0    0    0\n",
      "     0    0    0    0    0   13   97]]\n"
     ]
    }
   ],
   "source": [
    "# pad sequences \n",
    "max_sequence_len = max([len(x) for x in input_sequences])\n",
    "print(max_sequence_len)\n",
    "input_sequences = np.array(pad_sequences(input_sequences, maxlen=max_sequence_len, padding='pre'))\n",
    "\n",
    "print(input_sequences[:5])"
   ]
  },
  {
   "cell_type": "markdown",
   "metadata": {},
   "source": [
    "# Created predictors and label"
   ]
  },
  {
   "cell_type": "code",
   "execution_count": 57,
   "metadata": {
    "colab": {
     "base_uri": "https://localhost:8080/"
    },
    "executionInfo": {
     "elapsed": 487,
     "status": "ok",
     "timestamp": 1640793370064,
     "user": {
      "displayName": "S Hossain",
      "photoUrl": "https://lh3.googleusercontent.com/a-/AOh14Ggt4u0T0ivGL6FKb8kNpTDR54DKNxD5_0eAOmR0Ww=s64",
      "userId": "04446315769117704347"
     },
     "user_tz": -60
    },
    "id": "U4ZAKAPDv4La",
    "outputId": "840fb1b4-8cd4-4870-c280-3e2d1d3c2559"
   },
   "outputs": [
    {
     "name": "stdout",
     "output_type": "stream",
     "text": [
      "(56643, 20)\n",
      "[[   0    0    0    0    0    0    0    0    0    0    0    0    0    0\n",
      "     0    0    0    0    0   52]\n",
      " [   0    0    0    0    0    0    0    0    0    0    0    0    0    0\n",
      "     0    0    0    0   52   13]\n",
      " [   0    0    0    0    0    0    0    0    0    0    0    0    0    0\n",
      "     0    0    0   52   13   97]\n",
      " [   0    0    0    0    0    0    0    0    0    0    0    0    0    0\n",
      "     0    0   52   13   97 1218]\n",
      " [   0    0    0    0    0    0    0    0    0    0    0    0    0    0\n",
      "     0    0    0    0    0   13]]\n",
      "[  13   97 1218 ...  325   48  106]\n"
     ]
    }
   ],
   "source": [
    "xs, labels = input_sequences[:,:-1],input_sequences[:,-1]\n",
    "ys = tf.keras.utils.to_categorical(labels, num_classes=total_words)\n",
    "print(xs.shape)\n",
    "print(xs[:5])\n",
    "print(labels)"
   ]
  },
  {
   "cell_type": "markdown",
   "metadata": {},
   "source": [
    "## Model Architecture"
   ]
  },
  {
   "cell_type": "code",
   "execution_count": null,
   "metadata": {},
   "outputs": [],
   "source": [
    "model = Sequential()\n",
    "model.add(Embedding(total_words, 16, input_length=max_sequence_len-1))\n",
    "model.add(Bidirectional(LSTM(32, return_sequences=True)))\n",
    "model.add(Bidirectional(LSTM(32)))\n",
    "model.add(Dense(total_words, activation='softmax'))\n",
    "\n",
    "adam = Adam(learning_rate=0.01)\n",
    "model.compile(loss='categorical_crossentropy', optimizer=adam, metrics=['accuracy'])\n",
    "history = model.fit(xs, ys, epochs=20, verbose=1)\n",
    "# model.save(\"bidiirish2.h5\")"
   ]
  },
  {
   "cell_type": "markdown",
   "metadata": {},
   "source": [
    "## Model accuracy"
   ]
  },
  {
   "cell_type": "code",
   "execution_count": 59,
   "metadata": {
    "colab": {
     "base_uri": "https://localhost:8080/",
     "height": 541
    },
    "executionInfo": {
     "elapsed": 517,
     "status": "ok",
     "timestamp": 1640794360228,
     "user": {
      "displayName": "S Hossain",
      "photoUrl": "https://lh3.googleusercontent.com/a-/AOh14Ggt4u0T0ivGL6FKb8kNpTDR54DKNxD5_0eAOmR0Ww=s64",
      "userId": "04446315769117704347"
     },
     "user_tz": -60
    },
    "id": "3YXGelKThoTT",
    "outputId": "cf0c64df-330e-4ca6-b661-e7401b4795d6"
   },
   "outputs": [
    {
     "data": {
      "image/png": "[encoded data removed]",
      "text/plain": [
       "<Figure size 432x288 with 1 Axes>"
      ]
     },
     "metadata": {
      "needs_background": "light"
     },
     "output_type": "display_data"
    },
    {
     "data": {
      "image/png": "[encoded data removed]",
      "text/plain": [
       "<Figure size 432x288 with 1 Axes>"
      ]
     },
     "metadata": {
      "needs_background": "light"
     },
     "output_type": "display_data"
    }
   ],
   "source": [
    "import matplotlib.pyplot as plt\n",
    "def plot_graphs(history, string):\n",
    "  plt.plot(history.history[string])\n",
    "  plt.xlabel(\"Epochs\")\n",
    "  plt.ylabel(string)\n",
    "  plt.show()\n",
    "\n",
    "plot_graphs(history, 'accuracy')\n",
    "plot_graphs(history, 'loss')\n"
   ]
  },
  {
   "cell_type": "markdown",
   "metadata": {},
   "source": [
    "## Model Validation"
   ]
  },
  {
   "cell_type": "code",
   "execution_count": 60,
   "metadata": {
    "colab": {
     "base_uri": "https://localhost:8080/"
    },
    "executionInfo": {
     "elapsed": 2287,
     "status": "ok",
     "timestamp": 1640794362514,
     "user": {
      "displayName": "S Hossain",
      "photoUrl": "https://lh3.googleusercontent.com/a-/AOh14Ggt4u0T0ivGL6FKb8kNpTDR54DKNxD5_0eAOmR0Ww=s64",
      "userId": "04446315769117704347"
     },
     "user_tz": -60
    },
    "id": "Jasnt9XajQ1a",
    "outputId": "ae52a9f0-d2be-4373-c5a2-df34f1b103be"
   },
   "outputs": [
    {
     "name": "stdout",
     "output_type": "stream",
     "text": [
      "Come all ye maidens young and in a view oer me that well raise the cheer\n"
     ]
    }
   ],
   "source": [
    "seed_text = \"Come all ye maidens young and\"  # next word \"fair\"\n",
    "next_words = 10       \n",
    "for _ in range(next_words):\n",
    "  token_list = tokenizer.texts_to_sequences([seed_text])[0]\n",
    "  token_list = pad_sequences([token_list], maxlen=max_sequence_len-1, padding='pre')\n",
    "  predicted = np.argmax(model.predict(token_list), axis=-1)\n",
    "  output_word = \"\"\n",
    "  for word, index in tokenizer.word_index.items():\n",
    "    if index == predicted:\n",
    "      output_word = word\n",
    "      break\n",
    "  seed_text += \" \" + output_word\n",
    "\n",
    "print(seed_text)"
   ]
  },
  {
   "cell_type": "code",
   "execution_count": 61,
   "metadata": {
    "colab": {
     "base_uri": "https://localhost:8080/"
    },
    "executionInfo": {
     "elapsed": 5241,
     "status": "ok",
     "timestamp": 1640794367752,
     "user": {
      "displayName": "S Hossain",
      "photoUrl": "https://lh3.googleusercontent.com/a-/AOh14Ggt4u0T0ivGL6FKb8kNpTDR54DKNxD5_0eAOmR0Ww=s64",
      "userId": "04446315769117704347"
     },
     "user_tz": -60
    },
    "id": "Och02vFD4U2F",
    "outputId": "749b3bb6-7f81-4654-c5d6-220f2f321a41"
   },
   "outputs": [
    {
     "name": "stdout",
     "output_type": "stream",
     "text": [
      "[9]\n",
      "in\n",
      "Come all ye maidens young and in a view oer me that well raise the cheer revenge for skibbereen with whiskey and loved its you leave my meaning i never would me embarrass besides sir to die on the sentence wont sold and the high high left a walk along the way and ld nice roddy mccorley goes to late they through the indies jollity where she boldly took a tear and the way and ld could they keep me oh danny both loud and gave to the stars ache and the cold thing in rosy red coat bit the devil not no never began abusing\n"
     ]
    }
   ],
   "source": [
    "seed_text = \"Come all ye maidens young and\"                        # next word would be fair\n",
    "token_list = tokenizer.texts_to_sequences([seed_text])[0]\n",
    "token_list = pad_sequences([token_list], maxlen=max_sequence_len-1, padding='pre')\n",
    "predicted = np.argmax(model.predict(token_list), axis=-1)\n",
    "print(predicted)\n",
    "\n",
    "for word, index in tokenizer.word_index.items():\n",
    "    if index == predicted:\n",
    "        print(word)\n",
    "        break\n",
    "\n",
    "# seed_text = \"are you feeling lucky\"\n",
    "next_words = 100\n",
    "for _ in range(next_words):\n",
    "    token_list = tokenizer.texts_to_sequences([seed_text])[0]\n",
    "    token_list = pad_sequences([token_list], maxlen=max_sequence_len - 1, padding='pre')\n",
    "    # predicted = model.predict_classes(token_list, verbose=0)\n",
    "    predicted = np.argmax(model.predict(token_list), axis=-1)\n",
    "    output_word = \"\"\n",
    "    for word, index in tokenizer.word_index.items():\n",
    "        if index == predicted:\n",
    "            output_word = word\n",
    "            break\n",
    "    seed_text += \" \" + output_word\n",
    "\n",
    "print(seed_text)\n"
   ]
  },
  {
   "cell_type": "markdown",
   "metadata": {},
   "source": [
    "## Conclusion\n",
    "\n",
    "* This notebook computed text generation using a trained LSTM-based model"
   ]
  },
  {
   "cell_type": "code",
   "execution_count": null,
   "metadata": {},
   "outputs": [],
   "source": []
  }
 ],
 "metadata": {
  "accelerator": "GPU",
  "colab": {
   "name": "irish-lyrics-LSTM.ipynb",
   "provenance": [
    {
     "file_id": "1ekHVGSGkTbKURFO2LxRnWZgdVO6BMeu1",
     "timestamp": 1640552725480
    }
   ]
  },
  "kernelspec": {
   "display_name": "Python 3 (ipykernel)",
   "language": "python",
   "name": "python3"
  },
  "language_info": {
   "codemirror_mode": {
    "name": "ipython",
    "version": 3
   },
   "file_extension": ".py",
   "mimetype": "text/x-python",
   "name": "python",
   "nbconvert_exporter": "python",
   "pygments_lexer": "ipython3",
   "version": "3.9.12"
  }
 },
 "nbformat": 4,
 "nbformat_minor": 1
}
